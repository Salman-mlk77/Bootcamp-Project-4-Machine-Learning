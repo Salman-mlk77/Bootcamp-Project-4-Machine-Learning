{
 "cells": [
  {
   "cell_type": "code",
   "execution_count": null,
   "id": "346ecab1",
   "metadata": {},
   "outputs": [],
   "source": [
    "import pandas as pd \n",
    "import numpy as np\n",
    "import seaborn as sns\n",
    "import plotly.express as px\n",
    "import matplotlib.pyplot as plt\n",
    "import warnings\n",
    "warnings.filterwarnings(\"ignore\")"
   ]
  },
  {
   "cell_type": "code",
   "execution_count": null,
   "id": "302a746c",
   "metadata": {
    "scrolled": true
   },
   "outputs": [],
   "source": [
    "df = pd.read_csv('math-raw_1.csv')\n",
    "df.head()"
   ]
  },
  {
   "cell_type": "markdown",
   "id": "f58925a6",
   "metadata": {},
   "source": [
    "  "
   ]
  },
  {
   "cell_type": "markdown",
   "id": "c502ea93",
   "metadata": {},
   "source": [
    "# EDA"
   ]
  },
  {
   "cell_type": "code",
   "execution_count": null,
   "id": "f9410e45",
   "metadata": {},
   "outputs": [],
   "source": [
    "df.shape"
   ]
  },
  {
   "cell_type": "code",
   "execution_count": null,
   "id": "666da7d1",
   "metadata": {},
   "outputs": [],
   "source": [
    "df.info()"
   ]
  },
  {
   "cell_type": "code",
   "execution_count": null,
   "id": "0c0f4610",
   "metadata": {},
   "outputs": [],
   "source": [
    "df.describe()"
   ]
  },
  {
   "cell_type": "code",
   "execution_count": null,
   "id": "7827beb5",
   "metadata": {},
   "outputs": [],
   "source": [
    "df.isnull().sum()"
   ]
  },
  {
   "cell_type": "code",
   "execution_count": null,
   "id": "2400b073",
   "metadata": {},
   "outputs": [],
   "source": [
    "import missingno as msno  # pip install missingno\n",
    "msno.matrix(df);"
   ]
  },
  {
   "cell_type": "markdown",
   "id": "13d9ddba",
   "metadata": {},
   "source": [
    "## Handling missing values"
   ]
  },
  {
   "cell_type": "code",
   "execution_count": null,
   "id": "669b5782",
   "metadata": {},
   "outputs": [],
   "source": [
    "df.replace(\"?\", np.nan, inplace = True)\n",
    "df.head(10)"
   ]
  },
  {
   "cell_type": "code",
   "execution_count": null,
   "id": "0c098df3",
   "metadata": {},
   "outputs": [],
   "source": [
    "df.isnull().sum()"
   ]
  },
  {
   "cell_type": "code",
   "execution_count": null,
   "id": "3ee7fa26",
   "metadata": {},
   "outputs": [],
   "source": [
    "df.freetime.unique()"
   ]
  },
  {
   "cell_type": "code",
   "execution_count": null,
   "id": "9edfa537",
   "metadata": {},
   "outputs": [],
   "source": [
    "df['freetime'].value_counts().plot(kind='bar', title=\"freetime frequency\");"
   ]
  },
  {
   "cell_type": "code",
   "execution_count": null,
   "id": "5f418bf4",
   "metadata": {},
   "outputs": [],
   "source": [
    "freetime_mode = df.freetime.mode()[0]\n",
    "freetime_mode"
   ]
  },
  {
   "cell_type": "code",
   "execution_count": null,
   "id": "6c9a0ea1",
   "metadata": {},
   "outputs": [],
   "source": [
    "df['freetime'] = df['freetime'].fillna(freetime_mode)"
   ]
  },
  {
   "cell_type": "code",
   "execution_count": null,
   "id": "9441f545",
   "metadata": {},
   "outputs": [],
   "source": [
    "df['freetime'].value_counts().plot(kind='bar', title=\"freetime frequency\");"
   ]
  },
  {
   "cell_type": "code",
   "execution_count": null,
   "id": "bf726f80",
   "metadata": {},
   "outputs": [],
   "source": [
    "school_mode = df.school.mode()[0]\n",
    "school_mode"
   ]
  },
  {
   "cell_type": "code",
   "execution_count": null,
   "id": "8805f2eb",
   "metadata": {},
   "outputs": [],
   "source": [
    "df['school'] = df['school'].fillna(school_mode)"
   ]
  },
  {
   "cell_type": "code",
   "execution_count": null,
   "id": "9414a433",
   "metadata": {},
   "outputs": [],
   "source": [
    "sex_mode = df.sex.mode()[0]\n",
    "sex_mode"
   ]
  },
  {
   "cell_type": "code",
   "execution_count": null,
   "id": "5ec0c8cc",
   "metadata": {},
   "outputs": [],
   "source": [
    "df['sex'] = df['sex'].fillna(sex_mode)"
   ]
  },
  {
   "cell_type": "code",
   "execution_count": null,
   "id": "24afd3ab",
   "metadata": {},
   "outputs": [],
   "source": [
    "df.age.var()"
   ]
  },
  {
   "cell_type": "code",
   "execution_count": null,
   "id": "17397d61",
   "metadata": {},
   "outputs": [],
   "source": [
    "df['age'] = df['age'].fillna(method=\"ffill\")"
   ]
  },
  {
   "cell_type": "code",
   "execution_count": null,
   "id": "44df9218",
   "metadata": {},
   "outputs": [],
   "source": [
    "df.age.var()"
   ]
  },
  {
   "cell_type": "code",
   "execution_count": null,
   "id": "ccf142da",
   "metadata": {},
   "outputs": [],
   "source": [
    "address_mode = df.address.mode()[0]\n",
    "address_mode"
   ]
  },
  {
   "cell_type": "code",
   "execution_count": null,
   "id": "093a86ea",
   "metadata": {},
   "outputs": [],
   "source": [
    "df['address'] = df['address'].fillna(address_mode)"
   ]
  },
  {
   "cell_type": "code",
   "execution_count": null,
   "id": "c2f94aee",
   "metadata": {},
   "outputs": [],
   "source": [
    "df.failures.var()"
   ]
  },
  {
   "cell_type": "code",
   "execution_count": null,
   "id": "fc077ecd",
   "metadata": {},
   "outputs": [],
   "source": [
    "df['failures'].fillna(method=\"bfill\", inplace =True)"
   ]
  },
  {
   "cell_type": "code",
   "execution_count": null,
   "id": "05acc1f7",
   "metadata": {},
   "outputs": [],
   "source": [
    "df.failures.var()"
   ]
  },
  {
   "cell_type": "code",
   "execution_count": null,
   "id": "587de60e",
   "metadata": {},
   "outputs": [],
   "source": [
    "df.absences.var()"
   ]
  },
  {
   "cell_type": "code",
   "execution_count": null,
   "id": "180e01b1",
   "metadata": {},
   "outputs": [],
   "source": [
    "absences_mode = df.absences.mean()\n",
    "rounded_mean = \"{:.0f}\".format(absences_mode)\n",
    "print(rounded_mean)"
   ]
  },
  {
   "cell_type": "code",
   "execution_count": null,
   "id": "ccc43aca",
   "metadata": {},
   "outputs": [],
   "source": [
    "df['absences'] = df['absences'].fillna(rounded_mean)"
   ]
  },
  {
   "cell_type": "code",
   "execution_count": null,
   "id": "2520309f",
   "metadata": {},
   "outputs": [],
   "source": [
    "df['absences'] = pd.to_numeric(df['absences'], errors='coerce')\n",
    "df.absences.var()"
   ]
  },
  {
   "cell_type": "code",
   "execution_count": null,
   "id": "65a7cfdf",
   "metadata": {},
   "outputs": [],
   "source": [
    "df.G1.var()"
   ]
  },
  {
   "cell_type": "code",
   "execution_count": null,
   "id": "106b65ad",
   "metadata": {},
   "outputs": [],
   "source": [
    "G1_mean = df.G1.mean()\n",
    "rounded_mean = \"{:.0f}\".format(G1_mean)\n",
    "print(rounded_mean)"
   ]
  },
  {
   "cell_type": "code",
   "execution_count": null,
   "id": "28af8150",
   "metadata": {},
   "outputs": [],
   "source": [
    "df['G1'] = df['G1'].fillna(rounded_mean)"
   ]
  },
  {
   "cell_type": "code",
   "execution_count": null,
   "id": "bb4d0e11",
   "metadata": {},
   "outputs": [],
   "source": [
    "df['G1'] = pd.to_numeric(df['G1'], errors='coerce')\n",
    "df.G1.var()"
   ]
  },
  {
   "cell_type": "code",
   "execution_count": null,
   "id": "2b3c4bf0",
   "metadata": {
    "scrolled": true
   },
   "outputs": [],
   "source": [
    "df.isnull().sum()"
   ]
  },
  {
   "cell_type": "markdown",
   "id": "b8a6dcb4",
   "metadata": {},
   "source": [
    " "
   ]
  },
  {
   "cell_type": "code",
   "execution_count": null,
   "id": "a0f9fd0f",
   "metadata": {},
   "outputs": [],
   "source": [
    "df['sex']"
   ]
  },
  {
   "cell_type": "markdown",
   "id": "2c7d3682",
   "metadata": {},
   "source": [
    "## Replase F to Femel, M to Male"
   ]
  },
  {
   "cell_type": "code",
   "execution_count": null,
   "id": "a077659d",
   "metadata": {
    "scrolled": false
   },
   "outputs": [],
   "source": [
    "df['sex'].replace({'F': 'Female', 'M': 'Male'},inplace = True)\n",
    "df['sex']"
   ]
  },
  {
   "cell_type": "code",
   "execution_count": null,
   "id": "6f438c6b",
   "metadata": {},
   "outputs": [],
   "source": [
    "plt.figure(figsize=(8, 8))\n",
    "sns.countplot(df['sex'])\n",
    "plt.title(\"Distribution of Sex\");"
   ]
  },
  {
   "cell_type": "code",
   "execution_count": null,
   "id": "76aa1241",
   "metadata": {},
   "outputs": [],
   "source": [
    "plt.figure(figsize=(10,10))\n",
    "sns.barplot(df['age'],df['failures'],hue= df['sex'])\n",
    "plt.title(\"Age vs Failures\", fontsize=16);"
   ]
  },
  {
   "cell_type": "markdown",
   "id": "06d6b73e",
   "metadata": {},
   "source": [
    " "
   ]
  },
  {
   "cell_type": "markdown",
   "id": "b4166c3a",
   "metadata": {},
   "source": [
    " "
   ]
  },
  {
   "cell_type": "code",
   "execution_count": null,
   "id": "25040189",
   "metadata": {},
   "outputs": [],
   "source": []
  },
  {
   "cell_type": "code",
   "execution_count": null,
   "id": "0335afc8",
   "metadata": {},
   "outputs": [],
   "source": []
  },
  {
   "cell_type": "code",
   "execution_count": null,
   "id": "f894446a",
   "metadata": {},
   "outputs": [],
   "source": []
  },
  {
   "cell_type": "code",
   "execution_count": null,
   "id": "1dc72b0d",
   "metadata": {
    "scrolled": true
   },
   "outputs": [],
   "source": [
    "sns.pairplot(df);"
   ]
  },
  {
   "cell_type": "code",
   "execution_count": null,
   "id": "59650531",
   "metadata": {},
   "outputs": [],
   "source": [
    "sns.distplot(df['G3'], bins=10);"
   ]
  },
  {
   "cell_type": "code",
   "execution_count": null,
   "id": "3a921c6c",
   "metadata": {},
   "outputs": [],
   "source": [
    "df.corr()"
   ]
  },
  {
   "cell_type": "code",
   "execution_count": null,
   "id": "a6337387",
   "metadata": {},
   "outputs": [],
   "source": [
    "plt.figure(figsize=(18,10))\n",
    "sns.heatmap(df.corr(),annot=True,cbar=True)"
   ]
  },
  {
   "cell_type": "code",
   "execution_count": null,
   "id": "f0281bca",
   "metadata": {},
   "outputs": [],
   "source": []
  }
 ],
 "metadata": {
  "kernelspec": {
   "display_name": "Python 3 (ipykernel)",
   "language": "python",
   "name": "python3"
  },
  "language_info": {
   "codemirror_mode": {
    "name": "ipython",
    "version": 3
   },
   "file_extension": ".py",
   "mimetype": "text/x-python",
   "name": "python",
   "nbconvert_exporter": "python",
   "pygments_lexer": "ipython3",
   "version": "3.10.9"
  }
 },
 "nbformat": 4,
 "nbformat_minor": 5
}
